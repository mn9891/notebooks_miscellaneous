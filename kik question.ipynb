{
 "cells": [
  {
   "cell_type": "markdown",
   "metadata": {},
   "source": [
    "### Question: Given the following set of numbers {49, 8, 48, 15, 47, 4, 16, 23, 43, 44, 42, 45, 46}. A function picks a random subset of size 6, and returns the minimum of that subset. What is the expected value of this function? "
   ]
  },
  {
   "cell_type": "markdown",
   "metadata": {},
   "source": [
    "This can be done by __Monte Carlo simulation__ or going through all possible __combinations__ or even __analytically__."
   ]
  },
  {
   "cell_type": "markdown",
   "metadata": {},
   "source": [
    "## Monte Carlo simulation"
   ]
  },
  {
   "cell_type": "markdown",
   "metadata": {},
   "source": [
    "First we can start by just doing a Monte Carlo simulation of the requested task: just repeat MC times the process of selecting 6 items and getting their minimum. The mean of all these minima should tend to the expected value:"
   ]
  },
  {
   "cell_type": "code",
   "execution_count": 1,
   "metadata": {},
   "outputs": [
    {
     "name": "stdout",
     "output_type": "stream",
     "text": [
      "Expected value = 8.817975\n",
      "Wall time: 22 s\n"
     ]
    }
   ],
   "source": [
    "%%time\n",
    "import numpy as np\n",
    "S = np.array([49, 8, 48, 15, 47, 4, 16, 23, 43, 44, 42, 45, 46]) # our set of numbers\n",
    "MC = 10**6 # size of Monte Carlo simulation\n",
    "exp_val = 0 # variable for the expected value\n",
    "for i in range(MC):\n",
    "    exp_val += np.min(np.random.choice(S,6,replace=False))\n",
    "print (f'Expected value = {exp_val/MC}')"
   ]
  },
  {
   "cell_type": "markdown",
   "metadata": {},
   "source": [
    "## Combinations (itertools)"
   ]
  },
  {
   "cell_type": "markdown",
   "metadata": {},
   "source": [
    "We can even go through all the possible combinations to get the exact expected value:"
   ]
  },
  {
   "cell_type": "code",
   "execution_count": 2,
   "metadata": {},
   "outputs": [
    {
     "name": "stdout",
     "output_type": "stream",
     "text": [
      "Expected value = 8.818181818181818\n"
     ]
    }
   ],
   "source": [
    "from itertools import combinations\n",
    "comb = list(combinations(S, 6)) # list of combinations\n",
    "mins = [min(cc) for cc in comb] # list of minima\n",
    "print (f'Expected value = {sum(mins)/len(mins)}')"
   ]
  },
  {
   "cell_type": "markdown",
   "metadata": {},
   "source": [
    "This is the extact expected value of the minimum"
   ]
  },
  {
   "cell_type": "markdown",
   "metadata": {},
   "source": [
    "##  Probabilities"
   ]
  },
  {
   "cell_type": "markdown",
   "metadata": {},
   "source": [
    "Now, we can use simple probabilities and algebra to proove it:"
   ]
  },
  {
   "cell_type": "markdown",
   "metadata": {},
   "source": [
    "Let's say we sort the numbers in ascending order: S = $\\{ 4,  8, 15, 16, 23, 42, 43, 44, 45, 46, 47, 48, 49\\}$. We are sure that the minimum can't be one of the last five numbers. All the rest can, but with different probabilities. This involves combinations. The expected value is the weighted sum of the possible minima weighted by the their probabilities of occuring. Those weights are the binomial coefficients defined as $ C^p_n = \\frac{n!}{p!(n-p)!}$, while selecting p from n. The expected value is then: "
   ]
  },
  {
   "cell_type": "markdown",
   "metadata": {},
   "source": [
    "\\begin{equation*}\n",
    "\\text{Expected value} = \\frac{\\sum_{i=0}^{5}C^5_{12-i} S_i}{\\sum_{i=5}^{12}C^5_i} = \\frac{4 C^5_{12} + 8 C^5_{11} + 15 C^5_{10} + \\dots + 43 C^5_{6} + 44 C^5_{5}}{\\sum_{i=5}^{12}C^5_i} = \\frac{15132}{1716} = 8.818181818181818\n",
    "\\end{equation*}"
   ]
  },
  {
   "cell_type": "markdown",
   "metadata": {},
   "source": [
    "Here, you can check the calculations"
   ]
  },
  {
   "cell_type": "code",
   "execution_count": 3,
   "metadata": {},
   "outputs": [
    {
     "name": "stdout",
     "output_type": "stream",
     "text": [
      "Expected value = 8.818181818181818\n"
     ]
    }
   ],
   "source": [
    "def binom_coef(p,n):\n",
    "    \"\"\" Computes binomial coefficient p from n \"\"\"\n",
    "    return np.math.factorial(n)/np.math.factorial(p)/np.math.factorial(n-p)\n",
    "expected_value = 0 \n",
    "S.sort() # sort S in ascending order\n",
    "for i in range(len(S)-5):\n",
    "    comb_nbr = binom_coef(5,12-i)\n",
    "    expected_value += S[i] * comb_nbr\n",
    "expected_value /= sum([binom_coef(5,12-i) for i in range(len(S)-5)])\n",
    "print (f'Expected value = {expected_value}')"
   ]
  }
 ],
 "metadata": {
  "kernelspec": {
   "display_name": "Python 3",
   "language": "python",
   "name": "python3"
  },
  "language_info": {
   "codemirror_mode": {
    "name": "ipython",
    "version": 3
   },
   "file_extension": ".py",
   "mimetype": "text/x-python",
   "name": "python",
   "nbconvert_exporter": "python",
   "pygments_lexer": "ipython3",
   "version": "3.6.5"
  }
 },
 "nbformat": 4,
 "nbformat_minor": 2
}
